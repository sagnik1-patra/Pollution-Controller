{
 "cells": [
  {
   "cell_type": "code",
   "execution_count": 1,
   "id": "0fe053c2-b1d2-4364-b560-ab9537c73c09",
   "metadata": {},
   "outputs": [
    {
     "name": "stderr",
     "output_type": "stream",
     "text": [
      "C:\\Users\\sagni\\AppData\\Local\\Temp\\ipykernel_33592\\2640691969.py:4: DtypeWarning: Columns (15) have mixed types. Specify dtype option on import or set low_memory=False.\n",
      "  station_hour = pd.read_csv(r\"C:\\Users\\sagni\\Downloads\\Pollution controller\\archive (1)\\station_hour.csv\")\n"
     ]
    },
    {
     "name": "stdout",
     "output_type": "stream",
     "text": [
      "  StationId             Datetime  PM2.5    PM10    NO    NO2    NOx    NH3  \\\n",
      "0     AP001  2017-11-24 17:00:00  60.50   98.00  2.35  30.80  18.25   8.50   \n",
      "1     AP001  2017-11-24 18:00:00  65.50  111.25  2.70  24.20  15.07   9.77   \n",
      "2     AP001  2017-11-24 19:00:00  80.00  132.00  2.10  25.18  15.15  12.02   \n",
      "3     AP001  2017-11-24 20:00:00  81.50  133.25  1.95  16.25  10.23  11.58   \n",
      "4     AP001  2017-11-24 21:00:00  75.25  116.00  1.43  17.48  10.43  12.03   \n",
      "\n",
      "    CO    SO2      O3  Benzene  Toluene  Xylene  AQI AQI_Bucket  \n",
      "0  0.1  11.85  126.40      0.1     6.10    0.10  NaN        NaN  \n",
      "1  0.1  13.17  117.12      0.1     6.25    0.15  NaN        NaN  \n",
      "2  0.1  12.08   98.98      0.2     5.98    0.18  NaN        NaN  \n",
      "3  0.1  10.47  112.20      0.2     6.72    0.10  NaN        NaN  \n",
      "4  0.1   9.12  106.35      0.2     5.75    0.08  NaN        NaN  \n",
      "        City        Date  PM2.5  PM10     NO    NO2    NOx  NH3     CO    SO2  \\\n",
      "0  Ahmedabad  2015-01-01    NaN   NaN   0.92  18.22  17.15  NaN   0.92  27.64   \n",
      "1  Ahmedabad  2015-01-02    NaN   NaN   0.97  15.69  16.46  NaN   0.97  24.55   \n",
      "2  Ahmedabad  2015-01-03    NaN   NaN  17.40  19.30  29.70  NaN  17.40  29.07   \n",
      "3  Ahmedabad  2015-01-04    NaN   NaN   1.70  18.48  17.97  NaN   1.70  18.59   \n",
      "4  Ahmedabad  2015-01-05    NaN   NaN  22.10  21.42  37.76  NaN  22.10  39.33   \n",
      "\n",
      "       O3  Benzene  Toluene  Xylene  AQI AQI_Bucket  \n",
      "0  133.36     0.00     0.02    0.00  NaN        NaN  \n",
      "1   34.06     3.68     5.50    3.77  NaN        NaN  \n",
      "2   30.70     6.80    16.40    2.25  NaN        NaN  \n",
      "3   36.08     4.43    10.14    1.00  NaN        NaN  \n",
      "4   39.31     7.01    18.89    2.78  NaN        NaN  \n"
     ]
    }
   ],
   "source": [
    "import pandas as pd\n",
    "\n",
    "# Load Kaggle datasets\n",
    "station_hour = pd.read_csv(r\"C:\\Users\\sagni\\Downloads\\Pollution controller\\archive (1)\\station_hour.csv\")\n",
    "stations = pd.read_csv(r\"C:\\Users\\sagni\\Downloads\\Pollution controller\\archive (1)\\stations.csv\")\n",
    "city_day = pd.read_csv(r\"C:\\Users\\sagni\\Downloads\\Pollution controller\\archive (1)\\city_day.csv\")\n",
    "city_hour = pd.read_csv(r\"C:\\Users\\sagni\\Downloads\\Pollution controller\\archive (1)\\city_hour.csv\")\n",
    "station_day = pd.read_csv(r\"C:\\Users\\sagni\\Downloads\\Pollution controller\\archive (1)\\station_day.csv\")\n",
    "\n",
    "print(station_hour.head())\n",
    "print(city_day.head())\n"
   ]
  },
  {
   "cell_type": "code",
   "execution_count": 2,
   "id": "6d08d5ab-3caa-432c-98f8-492782b3ee30",
   "metadata": {},
   "outputs": [],
   "source": [
    "# Filter for your city (e.g., Delhi)\n",
    "city = \"Delhi\"\n",
    "city_data = city_day[city_day['City'] == city]\n",
    "\n",
    "# Keep date and AQI-related columns\n",
    "city_data = city_data[['Date', 'PM2.5', 'PM10', 'NO2', 'CO', 'O3', 'AQI']]\n",
    "city_data['Date'] = pd.to_datetime(city_data['Date'])\n",
    "city_data = city_data.sort_values('Date')\n",
    "city_data.set_index('Date', inplace=True)\n"
   ]
  },
  {
   "cell_type": "code",
   "execution_count": 3,
   "id": "bd9dc13d-0f8a-4337-91a3-a4ccfe9865a8",
   "metadata": {},
   "outputs": [
    {
     "name": "stdout",
     "output_type": "stream",
     "text": [
      "✅ Final dataset saved at C:\\Users\\sagni\\Downloads\\Pollution controller\\final_data.csv\n"
     ]
    }
   ],
   "source": [
    "# Your satellite NO2 data\n",
    "satellite_df = pd.read_csv(r\"C:\\Users\\sagni\\Downloads\\Pollution controller\\data.csv\", parse_dates=['date'], index_col='date')\n",
    "\n",
    "# Combine satellite NO2 with Kaggle AQI & weather\n",
    "final_df = satellite_df.merge(city_data, left_index=True, right_index=True, how='inner')\n",
    "\n",
    "# Save merged dataset\n",
    "final_path = r\"C:\\Users\\sagni\\Downloads\\Pollution controller\\final_data.csv\"\n",
    "final_df.to_csv(final_path)\n",
    "print(f\"✅ Final dataset saved at {final_path}\")\n"
   ]
  },
  {
   "cell_type": "code",
   "execution_count": null,
   "id": "025a98ee-a8cb-49aa-a46d-8b96cc1b6811",
   "metadata": {},
   "outputs": [],
   "source": []
  }
 ],
 "metadata": {
  "kernelspec": {
   "display_name": "Python 3.11 (moviepy)",
   "language": "python",
   "name": "py311"
  },
  "language_info": {
   "codemirror_mode": {
    "name": "ipython",
    "version": 3
   },
   "file_extension": ".py",
   "mimetype": "text/x-python",
   "name": "python",
   "nbconvert_exporter": "python",
   "pygments_lexer": "ipython3",
   "version": "3.11.9"
  }
 },
 "nbformat": 4,
 "nbformat_minor": 5
}
