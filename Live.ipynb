{
 "cells": [
  {
   "cell_type": "code",
   "execution_count": 2,
   "id": "7718de47-8ea1-4db7-9816-a3c2c3bf0440",
   "metadata": {},
   "outputs": [
    {
     "name": "stdin",
     "output_type": "stream",
     "text": [
      "Enter Delhi area name:  Hauz Khas\n"
     ]
    },
    {
     "name": "stdout",
     "output_type": "stream",
     "text": [
      "Place not found in predefined list.\n"
     ]
    }
   ],
   "source": [
    "import requests\n",
    "import pandas as pd\n",
    "\n",
    "# Replace with your OpenWeatherMap API key\n",
    "API_KEY = \"874dab5a4e7db7c3770d5cbfacf466ba\"  \n",
    "\n",
    "# Pre-defined coordinates for Delhi locations\n",
    "delhi_locations = {\n",
    "    \"Anand Vihar\": (28.6506, 77.3150),\n",
    "    \"RK Puram\": (28.5669, 77.2000),\n",
    "    \"Dwarka\": (28.5867, 77.0431),\n",
    "    \"Punjabi Bagh\": (28.6692, 77.1265),\n",
    "    \"Mandir Marg\": (28.6321, 77.2089),\n",
    "    \"Civil Lines\": (28.6863, 77.2270),\n",
    "    \"Ashok Vihar\": (28.6910, 77.1810),\n",
    "    \"Shadipur\": (28.6511, 77.1577),\n",
    "    \"ITO\": (28.6289, 77.2425),\n",
    "}\n",
    "\n",
    "# Get pollution forecast for tomorrow\n",
    "def get_pollution_forecast(place):\n",
    "    if place not in delhi_locations:\n",
    "        print(\"Place not found in predefined list.\")\n",
    "        return\n",
    "\n",
    "    lat, lon = delhi_locations[place]\n",
    "    url = f\"http://api.openweathermap.org/data/2.5/air_pollution/forecast?lat={lat}&lon={lon}&appid={API_KEY}\"\n",
    "    response = requests.get(url)\n",
    "    \n",
    "    if response.status_code != 200:\n",
    "        print(\"Error fetching data:\", response.status_code)\n",
    "        return\n",
    "\n",
    "    data = response.json()\n",
    "    tomorrow_data = data['list'][8]  # approx. 24 hours ahead (8th 3-hour block)\n",
    "\n",
    "    print(f\"Pollution forecast for {place} (Tomorrow):\")\n",
    "    print(f\"  AQI: {tomorrow_data['main']['aqi']} (1=Good, 5=Very Poor)\")\n",
    "    components = tomorrow_data['components']\n",
    "    print(f\"  NO₂: {components['no2']} μg/m³\")\n",
    "    print(f\"  PM2.5: {components['pm2_5']} μg/m³\")\n",
    "    print(f\"  PM10: {components['pm10']} μg/m³\")\n",
    "    print(f\"  CO: {components['co']} μg/m³\")\n",
    "    print(f\"  O₃: {components['o3']} μg/m³\")\n",
    "\n",
    "# Example usage\n",
    "place_name = input(\"Enter Delhi area name: \")\n",
    "get_pollution_forecast(place_name)\n"
   ]
  },
  {
   "cell_type": "code",
   "execution_count": 5,
   "id": "e9634fc5-8a67-4ca6-99e8-6d95b04a0e40",
   "metadata": {},
   "outputs": [
    {
     "name": "stdout",
     "output_type": "stream",
     "text": [
      "Collecting geopy\n",
      "  Downloading geopy-2.4.1-py3-none-any.whl.metadata (6.8 kB)\n",
      "Collecting geographiclib<3,>=1.52 (from geopy)\n",
      "  Downloading geographiclib-2.0-py3-none-any.whl.metadata (1.4 kB)\n",
      "Downloading geopy-2.4.1-py3-none-any.whl (125 kB)\n",
      "Downloading geographiclib-2.0-py3-none-any.whl (40 kB)\n",
      "Installing collected packages: geographiclib, geopy\n",
      "\n",
      "   -------------------- ------------------- 1/2 [geopy]\n",
      "   ---------------------------------------- 2/2 [geopy]\n",
      "\n",
      "Successfully installed geographiclib-2.0 geopy-2.4.1\n"
     ]
    }
   ],
   "source": [
    "!pip install geopy\n"
   ]
  },
  {
   "cell_type": "code",
   "execution_count": 7,
   "id": "8f995437-9b03-400d-9ab3-8a35478e9b5b",
   "metadata": {},
   "outputs": [
    {
     "name": "stdin",
     "output_type": "stream",
     "text": [
      "Enter Delhi area name:  saket\n"
     ]
    },
    {
     "name": "stdout",
     "output_type": "stream",
     "text": [
      "Error fetching data: 401\n"
     ]
    }
   ],
   "source": [
    "from geopy.geocoders import Nominatim\n",
    "import requests\n",
    "\n",
    "# OpenWeatherMap API Key\n",
    "API_KEY = \"874dab5a4e7db7c3770d5cbfacf466ba\"\n",
    "\n",
    "# Get lat/lon from place name\n",
    "def get_coordinates(place):\n",
    "    geolocator = Nominatim(user_agent=\"delhi_pollution_app\")\n",
    "    location = geolocator.geocode(f\"{place}, Delhi, India\")\n",
    "    if location:\n",
    "        return location.latitude, location.longitude\n",
    "    else:\n",
    "        print(\"Could not find coordinates for:\", place)\n",
    "        return None, None\n",
    "\n",
    "# Get pollution forecast\n",
    "def get_pollution_forecast(place):\n",
    "    lat, lon = get_coordinates(place)\n",
    "    if lat is None:\n",
    "        return\n",
    "    url = f\"http://api.openweathermap.org/data/2.5/air_pollution/forecast?lat={lat}&lon={lon}&appid={API_KEY}\"\n",
    "    response = requests.get(url)\n",
    "    \n",
    "    if response.status_code != 200:\n",
    "        print(\"Error fetching data:\", response.status_code)\n",
    "        return\n",
    "\n",
    "    data = response.json()\n",
    "    tomorrow_data = data['list'][8]  # approx. 24 hours ahead\n",
    "\n",
    "    print(f\"\\nPollution forecast for {place} (Tomorrow):\")\n",
    "    print(f\"  AQI: {tomorrow_data['main']['aqi']} (1=Good, 5=Very Poor)\")\n",
    "    components = tomorrow_data['components']\n",
    "    print(f\"  NO₂: {components['no2']} μg/m³\")\n",
    "    print(f\"  PM2.5: {components['pm2_5']} μg/m³\")\n",
    "    print(f\"  PM10: {components['pm10']} μg/m³\")\n",
    "    print(f\"  CO: {components['co']} μg/m³\")\n",
    "    print(f\"  O₃: {components['o3']} μg/m³\")\n",
    "\n",
    "# Example usage\n",
    "place_name = input(\"Enter Delhi area name: \")\n",
    "get_pollution_forecast(place_name)\n"
   ]
  },
  {
   "cell_type": "code",
   "execution_count": null,
   "id": "dba538b6-b3cb-4210-b732-2f17f06c81cd",
   "metadata": {},
   "outputs": [],
   "source": []
  }
 ],
 "metadata": {
  "kernelspec": {
   "display_name": "Python 3.11 (moviepy)",
   "language": "python",
   "name": "py311"
  },
  "language_info": {
   "codemirror_mode": {
    "name": "ipython",
    "version": 3
   },
   "file_extension": ".py",
   "mimetype": "text/x-python",
   "name": "python",
   "nbconvert_exporter": "python",
   "pygments_lexer": "ipython3",
   "version": "3.11.9"
  }
 },
 "nbformat": 4,
 "nbformat_minor": 5
}
